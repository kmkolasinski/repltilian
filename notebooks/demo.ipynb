{
 "cells": [
  {
   "metadata": {
    "ExecuteTime": {
     "end_time": "2024-09-29T13:56:47.164166Z",
     "start_time": "2024-09-29T13:56:47.159605Z"
    }
   },
   "cell_type": "code",
   "source": [
    "%load_ext autoreload\n",
    "%autoreload 2"
   ],
   "id": "da4af01579015d50",
   "outputs": [
    {
     "name": "stdout",
     "output_type": "stream",
     "text": [
      "The autoreload extension is already loaded. To reload it, use:\n",
      "  %reload_ext autoreload\n"
     ]
    }
   ],
   "execution_count": 1
  },
  {
   "cell_type": "code",
   "id": "initial_id",
   "metadata": {
    "collapsed": true,
    "ExecuteTime": {
     "end_time": "2024-09-29T14:02:23.145951Z",
     "start_time": "2024-09-29T14:02:22.009282Z"
    }
   },
   "source": [
    "from repltilian import SwiftREPL\n",
    "repl = SwiftREPL()"
   ],
   "outputs": [
    {
     "name": "stdout",
     "output_type": "stream",
     "text": [
      "print(\"REPL is running !\")\n",
      "REPL is running !\n",
      " 11>  \n"
     ]
    }
   ],
   "execution_count": 1
  },
  {
   "metadata": {
    "ExecuteTime": {
     "end_time": "2024-09-29T14:02:24.077913Z",
     "start_time": "2024-09-29T14:02:24.075524Z"
    }
   },
   "cell_type": "code",
   "source": "repl.add_reload_file(\"demo.swift\")",
   "id": "65815d9d016d8832",
   "outputs": [],
   "execution_count": 2
  },
  {
   "metadata": {
    "ExecuteTime": {
     "end_time": "2024-09-29T14:02:25.175305Z",
     "start_time": "2024-09-29T14:02:24.978247Z"
    }
   },
   "cell_type": "code",
   "source": [
    "repl.run(\"\"\"\n",
    "var point = Point<Float>(x: 1, y: 2)\n",
    "\"\"\", reload=True);"
   ],
   "id": "614f5cce8afb56e0",
   "outputs": [
    {
     "name": "stdout",
     "output_type": "stream",
     "text": [
      " 46.  \n",
      " 47. var point = Point<Float>(x: 1, y: 2) \n",
      " 48.  \n",
      "point: Point<Float> = {\n",
      "  x = 1\n",
      "  y = 2\n",
      "}\n",
      " 48>  \n"
     ]
    }
   ],
   "execution_count": 3
  },
  {
   "metadata": {
    "ExecuteTime": {
     "end_time": "2024-09-29T14:02:34.706683Z",
     "start_time": "2024-09-29T14:02:34.629872Z"
    }
   },
   "cell_type": "code",
   "source": [
    "repl.run(\"\"\"\n",
    "var point1 = Point<Float>(x: 5, y: 2)\n",
    "var point2 = Point<Float>(x: 5, y: 2)\n",
    "let result = point1 + point2 + point\n",
    "result.translate(dx: 1, dy: 100)\n",
    "\"\"\");"
   ],
   "id": "d5540b2eb64a7080",
   "outputs": [
    {
     "name": "stdout",
     "output_type": "stream",
     "text": [
      " 48>  \n",
      " 49. var point1 = Point<Float>(x: 5, y: 2) \n",
      " 50. var point2 = Point<Float>(x: 5, y: 2) \n",
      " 51. let result = point1 + point2 + point \n",
      " 52. result.translate(dx: 1, dy: 100) \n",
      " 53.  \n",
      "$R0: Point<Float> = {\n",
      "  x = 12\n",
      "  y = 106\n",
      "}\n",
      "point1: Point<Float> = {\n",
      "  x = 5\n",
      "  y = 2\n",
      "}\n",
      "point2: Point<Float> = {\n",
      "  x = 5\n",
      "  y = 2\n",
      "}\n",
      "result: Point<Float> = {\n",
      "  x = 11\n",
      "  y = 6\n",
      "}\n",
      " 53>  \n"
     ]
    }
   ],
   "execution_count": 4
  },
  {
   "metadata": {
    "ExecuteTime": {
     "end_time": "2024-09-29T14:02:37.182441Z",
     "start_time": "2024-09-29T14:02:37.105492Z"
    }
   },
   "cell_type": "code",
   "source": "repl.vars[\"point2\"].json()",
   "id": "4e0fae9d289a052b",
   "outputs": [
    {
     "data": {
      "text/plain": [
       "{'x': 5, 'y': 2}"
      ]
     },
     "execution_count": 5,
     "metadata": {},
     "output_type": "execute_result"
    }
   ],
   "execution_count": 5
  },
  {
   "metadata": {
    "ExecuteTime": {
     "end_time": "2024-09-29T14:02:45.467135Z",
     "start_time": "2024-09-29T14:02:45.392781Z"
    }
   },
   "cell_type": "code",
   "source": "repl.vars[\"result\"].json()",
   "id": "1b64d4f7e8b93e18",
   "outputs": [
    {
     "data": {
      "text/plain": [
       "{'x': 11, 'y': 6}"
      ]
     },
     "execution_count": 7,
     "metadata": {},
     "output_type": "execute_result"
    }
   ],
   "execution_count": 7
  },
  {
   "metadata": {
    "ExecuteTime": {
     "end_time": "2024-09-29T14:02:46.747395Z",
     "start_time": "2024-09-29T14:02:46.666970Z"
    }
   },
   "cell_type": "code",
   "source": "repl.vars[\"result\"] = \"Point<Float>\", {'x': -1, 'y': -1}",
   "id": "1a049fb41b511972",
   "outputs": [],
   "execution_count": 8
  },
  {
   "metadata": {
    "ExecuteTime": {
     "end_time": "2024-09-29T14:02:47.533825Z",
     "start_time": "2024-09-29T14:02:47.457266Z"
    }
   },
   "cell_type": "code",
   "source": "repl.vars[\"result\"].json()",
   "id": "948c10e0df59d823",
   "outputs": [
    {
     "data": {
      "text/plain": [
       "{'x': -1, 'y': -1}"
      ]
     },
     "execution_count": 9,
     "metadata": {},
     "output_type": "execute_result"
    }
   ],
   "execution_count": 9
  },
  {
   "metadata": {
    "ExecuteTime": {
     "end_time": "2024-09-29T14:02:48.448294Z",
     "start_time": "2024-09-29T14:02:48.375909Z"
    }
   },
   "cell_type": "code",
   "source": "repl.run(\"result.translate(dx: 1, dy: 100)\");",
   "id": "9848167fd9475b9b",
   "outputs": [
    {
     "name": "stdout",
     "output_type": "stream",
     "text": [
      " 59> result.translate(dx: 1, dy: 100)\n",
      "$R5: Point<Float> = {\n",
      "  x = 0\n",
      "  y = 99\n",
      "}\n",
      " 60>  \n"
     ]
    }
   ],
   "execution_count": 10
  },
  {
   "metadata": {},
   "cell_type": "code",
   "outputs": [],
   "execution_count": null,
   "source": "",
   "id": "7ca03680d4c571c0"
  }
 ],
 "metadata": {
  "kernelspec": {
   "display_name": "Python 3",
   "language": "python",
   "name": "python3"
  },
  "language_info": {
   "codemirror_mode": {
    "name": "ipython",
    "version": 2
   },
   "file_extension": ".py",
   "mimetype": "text/x-python",
   "name": "python",
   "nbconvert_exporter": "python",
   "pygments_lexer": "ipython2",
   "version": "2.7.6"
  }
 },
 "nbformat": 4,
 "nbformat_minor": 5
}
