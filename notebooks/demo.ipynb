{
 "cells": [
  {
   "cell_type": "code",
   "execution_count": 1,
   "id": "da4af01579015d50",
   "metadata": {
    "ExecuteTime": {
     "end_time": "2024-09-29T13:56:47.164166Z",
     "start_time": "2024-09-29T13:56:47.159605Z"
    }
   },
   "outputs": [
    {
     "name": "stdout",
     "output_type": "stream",
     "text": [
      "The autoreload extension is already loaded. To reload it, use:\n",
      "  %reload_ext autoreload\n"
     ]
    }
   ],
   "source": [
    "%load_ext autoreload\n",
    "%autoreload 2"
   ]
  },
  {
   "cell_type": "code",
   "execution_count": 2,
   "id": "initial_id",
   "metadata": {
    "ExecuteTime": {
     "end_time": "2024-09-29T14:02:23.145951Z",
     "start_time": "2024-09-29T14:02:22.009282Z"
    },
    "collapsed": true
   },
   "outputs": [
    {
     "name": "stdout",
     "output_type": "stream",
     "text": [
      "print(\"REPL is running !\")\n",
      "REPL is running !\n",
      " 23>  \n"
     ]
    }
   ],
   "source": [
    "from repltilian import SwiftREPL\n",
    "repl = SwiftREPL()"
   ]
  },
  {
   "cell_type": "code",
   "execution_count": 3,
   "id": "65815d9d016d8832",
   "metadata": {
    "ExecuteTime": {
     "end_time": "2024-09-29T14:02:24.077913Z",
     "start_time": "2024-09-29T14:02:24.075524Z"
    }
   },
   "outputs": [],
   "source": [
    "repl.add_reload_file(\"demo.swift\")"
   ]
  },
  {
   "cell_type": "code",
   "execution_count": 4,
   "id": "614f5cce8afb56e0",
   "metadata": {
    "ExecuteTime": {
     "end_time": "2024-09-29T14:02:25.175305Z",
     "start_time": "2024-09-29T14:02:24.978247Z"
    }
   },
   "outputs": [
    {
     "name": "stdout",
     "output_type": "stream",
     "text": [
      " 58.  \n",
      " 59. var point = Point<Float>(x: 1, y: 2) \n",
      " 60.  \n",
      "point: Point<Float> = {\n",
      "  x = 1\n",
      "  y = 2\n",
      "}\n",
      " 60>  \n"
     ]
    }
   ],
   "source": [
    "repl.run(\"\"\"\n",
    "var point = Point<Float>(x: 1, y: 2)\n",
    "\"\"\", reload=True);"
   ]
  },
  {
   "cell_type": "code",
   "execution_count": 5,
   "id": "d5540b2eb64a7080",
   "metadata": {
    "ExecuteTime": {
     "end_time": "2024-09-29T14:02:34.706683Z",
     "start_time": "2024-09-29T14:02:34.629872Z"
    }
   },
   "outputs": [
    {
     "name": "stdout",
     "output_type": "stream",
     "text": [
      " 60> //cpp \n",
      " 61. var point1 = Point<Float>(x: 5, y: 2) \n",
      " 62. var point2 = Point<Float>(x: 5, y: 2) \n",
      " 63. let result = point1 + point2 + point \n",
      " 64. result.translate(dx: 1, dy: 100) \n",
      " 65.  \n",
      "$R0: Point<Float> = {\n",
      "  x = 12\n",
      "  y = 106\n",
      "}\n",
      "point1: Point<Float> = {\n",
      "  x = 5\n",
      "  y = 2\n",
      "}\n",
      "point2: Point<Float> = {\n",
      "  x = 5\n",
      "  y = 2\n",
      "}\n",
      "result: Point<Float> = {\n",
      "  x = 11\n",
      "  y = 6\n",
      "}\n",
      " 65>  \n"
     ]
    }
   ],
   "source": [
    "repl.run(\"\"\"//cpp\n",
    "var point1 = Point<Float>(x: 5, y: 2)\n",
    "var point2 = Point<Float>(x: 5, y: 2)\n",
    "let result = point1 + point2 + point\n",
    "result.translate(dx: 1, dy: 100)\n",
    "\"\"\");"
   ]
  },
  {
   "cell_type": "code",
   "execution_count": 6,
   "id": "4e0fae9d289a052b",
   "metadata": {
    "ExecuteTime": {
     "end_time": "2024-09-29T14:02:37.182441Z",
     "start_time": "2024-09-29T14:02:37.105492Z"
    }
   },
   "outputs": [
    {
     "data": {
      "text/plain": [
       "{'x': 5, 'y': 2}"
      ]
     },
     "execution_count": 6,
     "metadata": {},
     "output_type": "execute_result"
    }
   ],
   "source": [
    "repl.vars[\"point2\"].json()"
   ]
  },
  {
   "cell_type": "code",
   "execution_count": 7,
   "id": "1b64d4f7e8b93e18",
   "metadata": {
    "ExecuteTime": {
     "end_time": "2024-09-29T14:02:45.467135Z",
     "start_time": "2024-09-29T14:02:45.392781Z"
    }
   },
   "outputs": [
    {
     "data": {
      "text/plain": [
       "('Point<Float>', {'x': 11, 'y': 6})"
      ]
     },
     "execution_count": 7,
     "metadata": {},
     "output_type": "execute_result"
    }
   ],
   "source": [
    "repl.vars[\"result\"].dtype, repl.vars[\"result\"].json()"
   ]
  },
  {
   "cell_type": "code",
   "execution_count": 8,
   "id": "1a049fb41b511972",
   "metadata": {
    "ExecuteTime": {
     "end_time": "2024-09-29T14:02:46.747395Z",
     "start_time": "2024-09-29T14:02:46.666970Z"
    }
   },
   "outputs": [],
   "source": [
    "repl.vars[\"result\"] = {'x': -1.5, 'y': -1.2}"
   ]
  },
  {
   "cell_type": "code",
   "execution_count": 9,
   "id": "948c10e0df59d823",
   "metadata": {
    "ExecuteTime": {
     "end_time": "2024-09-29T14:02:47.533825Z",
     "start_time": "2024-09-29T14:02:47.457266Z"
    }
   },
   "outputs": [
    {
     "data": {
      "text/plain": [
       "{'x': -1.5, 'y': -1.2}"
      ]
     },
     "execution_count": 9,
     "metadata": {},
     "output_type": "execute_result"
    }
   ],
   "source": [
    "repl.vars[\"result\"].json()"
   ]
  },
  {
   "cell_type": "code",
   "execution_count": 10,
   "id": "6984211d",
   "metadata": {},
   "outputs": [],
   "source": [
    "repl.vars.create(\"y\", \"Array<Point<Float>>\", [{'x': -1.5, 'y': -1.2}]*10)"
   ]
  },
  {
   "cell_type": "code",
   "execution_count": 11,
   "id": "9848167fd9475b9b",
   "metadata": {
    "ExecuteTime": {
     "end_time": "2024-09-29T14:02:48.448294Z",
     "start_time": "2024-09-29T14:02:48.375909Z"
    }
   },
   "outputs": [
    {
     "name": "stdout",
     "output_type": "stream",
     "text": [
      " 72> result.translate(dx: 1, dy: 100)\n",
      "$R1: Point<Float> = {\n",
      "  x = -0.5\n",
      "  y = 98.800003\n",
      "}\n",
      " 73>  \n"
     ]
    }
   ],
   "source": [
    "repl.run(\"result.translate(dx: 1, dy: 100)\");"
   ]
  },
  {
   "cell_type": "code",
   "execution_count": 13,
   "id": "7ca03680d4c571c0",
   "metadata": {},
   "outputs": [
    {
     "data": {
      "text/plain": [
       "[{'x': -1, 'y': -1},\n",
       " {'x': -1, 'y': -1},\n",
       " {'x': -1, 'y': -1},\n",
       " {'x': -1, 'y': -1},\n",
       " {'x': -1, 'y': -1}]"
      ]
     },
     "execution_count": 13,
     "metadata": {},
     "output_type": "execute_result"
    }
   ],
   "source": [
    "repl.vars[\"y\"] = [{'x': -1, 'y': -1}] * 5\n",
    "repl.vars[\"y\"].json()"
   ]
  },
  {
   "cell_type": "code",
   "execution_count": 14,
   "id": "141407cc",
   "metadata": {},
   "outputs": [
    {
     "name": "stdout",
     "output_type": "stream",
     "text": [
      " 79> //cpp \n",
      " 80. y[0] \n",
      " 81.  \n",
      "$R2: Point<Float> = {\n",
      "  x = -1\n",
      "  y = -1\n",
      "}\n",
      " 81>  \n"
     ]
    }
   ],
   "source": [
    "repl.run(\"\"\"//cpp\n",
    "y[0]\n",
    "\"\"\");"
   ]
  },
  {
   "cell_type": "code",
   "execution_count": null,
   "id": "4113cbb7",
   "metadata": {},
   "outputs": [],
   "source": []
  }
 ],
 "metadata": {
  "kernelspec": {
   "display_name": "Python 3",
   "language": "python",
   "name": "python3"
  },
  "language_info": {
   "codemirror_mode": {
    "name": "ipython",
    "version": 3
   },
   "file_extension": ".py",
   "mimetype": "text/x-python",
   "name": "python",
   "nbconvert_exporter": "python",
   "pygments_lexer": "ipython3",
   "version": "3.11.4"
  }
 },
 "nbformat": 4,
 "nbformat_minor": 5
}
