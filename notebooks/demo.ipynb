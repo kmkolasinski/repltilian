{
 "cells": [
  {
   "cell_type": "code",
   "execution_count": null,
   "id": "da4af01579015d50",
   "metadata": {},
   "outputs": [],
   "source": [
    "%load_ext autoreload\n",
    "%autoreload 2"
   ]
  },
  {
   "cell_type": "code",
   "execution_count": null,
   "id": "initial_id",
   "metadata": {
    "collapsed": true
   },
   "outputs": [],
   "source": [
    "from repltilian import SwiftREPL\n",
    "# Create a new Swift REPL process\n",
    "repl = SwiftREPL()\n",
    "# Run some code in the Swift REPL\n",
    "repl.run(\"var values = [1, 2, 3, 4, 5]\")\n",
    "# Get the value of a variable from Swift to Python\n",
    "assert repl.vars[\"values\"].get() == [1, 2, 3, 4, 5]\n",
    "# Create or update variable\n",
    "repl.vars.set(\"values\", \"Array<Int>\", list(range(10)))\n",
    "# Run some more code again\n",
    "repl.run(\"\"\"\n",
    "let offset = -1\n",
    "let newValues = values.map { $0 * $0 + offset}\n",
    "\"\"\")\n",
    "assert repl.vars[\"newValues\"].get()[:5] == [-1, 0, 3, 8, 15]\n",
    "repl.close()"
   ]
  },
  {
   "cell_type": "code",
   "execution_count": null,
   "id": "a4b0e528962fff8f",
   "metadata": {},
   "outputs": [],
   "source": [
    "repl = SwiftREPL()\n",
    "repl.add_reload_file(\"demo.swift\")\n",
    "repl.run(\"\"\"\n",
    "var p1 = Point<Float>(x: 1, y: 2)\n",
    "var p2 = Point<Float>(x: 2, y: 1)\n",
    "var p3 = p1 + p2\n",
    "\"\"\", autoreload=True)\n",
    "\n",
    "assert repl.vars[\"p3\"].get() == {'x': 3, 'y': 3}\n",
    "repl.close()"
   ]
  },
  {
   "cell_type": "code",
   "execution_count": null,
   "id": "ddcb63652ee99f2d",
   "metadata": {},
   "outputs": [],
   "source": [
    "from repltilian import SwiftREPL\n",
    "repl = SwiftREPL()\n",
    "repl.add_reload_file(\"demo.swift\")\n",
    "# Run any command to import demo.swift code\n",
    "repl.run(\"\", autoreload=True)\n",
    "repl.vars.set(\"query\", \"Array<Point<Float>>\", [{'x': -1.5, 'y': -1.2}]*100)\n",
    "repl.vars.set(\"dataset\", \"Array<Point<Float>>\", [{'x': -1.5, 'y': -1.2}]*5000)\n",
    "\n",
    "repl.options.output_hide_variables = True\n",
    "repl.run(\"\"\"\n",
    "let newResult = findKNearestNeighbors(query: query, dataset: dataset, k: 10)\n",
    "\"\"\")\n",
    "assert len(repl.vars[\"newResult\"].get()) == 100\n",
    "assert len(repl.vars[\"newResult\"].get()[0][\"neighbors\"]) == 10\n",
    "\n",
    "# run line profiling on the function findKNearestNeighbors\n",
    "repl.options.output_hide_variables = True\n",
    "repl.line_profile(\n",
    "\"\"\"\n",
    "let newResult = findKNearestNeighbors(query: query, dataset: dataset, k: 10)\n",
    "\"\"\",\n",
    "function_name=\"findKNearestNeighbors\",\n",
    "source_path=\"demo.swift\"\n",
    ")\n",
    "repl.close()"
   ]
  },
  {
   "cell_type": "code",
   "execution_count": null,
   "id": "a6f70576",
   "metadata": {},
   "outputs": [],
   "source": []
  }
 ],
 "metadata": {
  "kernelspec": {
   "display_name": "ml",
   "language": "python",
   "name": "python3"
  },
  "language_info": {
   "codemirror_mode": {
    "name": "ipython",
    "version": 3
   },
   "file_extension": ".py",
   "mimetype": "text/x-python",
   "name": "python",
   "nbconvert_exporter": "python",
   "pygments_lexer": "ipython3",
   "version": "3.11.9"
  }
 },
 "nbformat": 4,
 "nbformat_minor": 5
}
