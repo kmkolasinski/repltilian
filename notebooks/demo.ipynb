{
 "cells": [
  {
   "cell_type": "code",
   "execution_count": 1,
   "id": "da4af01579015d50",
   "metadata": {
    "ExecuteTime": {
     "end_time": "2024-09-29T13:56:47.164166Z",
     "start_time": "2024-09-29T13:56:47.159605Z"
    }
   },
   "outputs": [
    {
     "name": "stdout",
     "output_type": "stream",
     "text": [
      "The autoreload extension is already loaded. To reload it, use:\n",
      "  %reload_ext autoreload\n"
     ]
    }
   ],
   "source": [
    "%load_ext autoreload\n",
    "%autoreload 2"
   ]
  },
  {
   "cell_type": "code",
   "execution_count": 2,
   "id": "initial_id",
   "metadata": {
    "ExecuteTime": {
     "end_time": "2024-09-29T14:02:23.145951Z",
     "start_time": "2024-09-29T14:02:22.009282Z"
    },
    "collapsed": true
   },
   "outputs": [
    {
     "name": "stdout",
     "output_type": "stream",
     "text": [
      " 23>\n"
     ]
    }
   ],
   "source": [
    "from repltilian import SwiftREPL\n",
    "repl = SwiftREPL()"
   ]
  },
  {
   "cell_type": "code",
   "execution_count": 3,
   "id": "65815d9d016d8832",
   "metadata": {
    "ExecuteTime": {
     "end_time": "2024-09-29T14:02:24.077913Z",
     "start_time": "2024-09-29T14:02:24.075524Z"
    }
   },
   "outputs": [],
   "source": [
    "repl.add_reload_file(\"demo.swift\")"
   ]
  },
  {
   "cell_type": "code",
   "execution_count": 4,
   "id": "a4b0e528962fff8f",
   "metadata": {},
   "outputs": [
    {
     "name": "stdout",
     "output_type": "stream",
     "text": [
      "point: Point<Float> = {\n",
      "  x = 1\n",
      "  y = 2\n",
      "}\n",
      " 61>\n"
     ]
    }
   ],
   "source": [
    "repl.run(\"\"\"\n",
    "var point = Point<Float>(x: 1, y: 2)\n",
    "\"\"\", autoreload=True);"
   ]
  },
  {
   "cell_type": "code",
   "execution_count": 5,
   "id": "ddcb63652ee99f2d",
   "metadata": {},
   "outputs": [
    {
     "name": "stdout",
     "output_type": "stream",
     "text": [
      " 62>\n"
     ]
    }
   ],
   "source": [
    "repl.run(\"\"\"var i = 1.0\"\"\", autoreload=False);"
   ]
  },
  {
   "cell_type": "code",
   "execution_count": 7,
   "id": "9a283b04",
   "metadata": {},
   "outputs": [
    {
     "data": {
      "text/plain": [
       "{'x': 1, 'y': 2}"
      ]
     },
     "execution_count": 7,
     "metadata": {},
     "output_type": "execute_result"
    }
   ],
   "source": [
    "repl.vars[\"point\"].get()"
   ]
  },
  {
   "cell_type": "code",
   "execution_count": 8,
   "id": "d5540b2eb64a7080",
   "metadata": {
    "ExecuteTime": {
     "end_time": "2024-09-29T14:02:34.706683Z",
     "start_time": "2024-09-29T14:02:34.629872Z"
    }
   },
   "outputs": [
    {
     "name": "stdout",
     "output_type": "stream",
     "text": [
      "$R0: Point<Float> = {\n",
      "  x = 12\n",
      "  y = 106\n",
      "}\n",
      "point1: Point<Float> = {\n",
      "  x = 5\n",
      "  y = 2\n",
      "}\n",
      "point2: Point<Float> = {\n",
      "  x = 5\n",
      "  y = 2\n",
      "}\n",
      "result: Point<Float> = {\n",
      "  x = 11\n",
      "  y = 6\n",
      "}\n",
      "results: [Point<Float>] = 3 values {\n",
      "  [0] = {\n",
      "    x = 11\n",
      "    y = 6\n",
      "  }\n",
      "  [1] = {\n",
      "    x = 5\n",
      "    y = 2\n",
      "  }\n",
      "  [2] = {\n",
      "    x = 5\n",
      "    y = 2\n",
      "  }\n",
      "}\n",
      "some: String = \"Some Text\"\n",
      " 71>\n"
     ]
    }
   ],
   "source": [
    "repl.run(\"\"\"//cpp\n",
    "var point1 = Point<Float>(x: 5, y: 2)\n",
    "var point2 = Point<Float>(x: 5, y: 2)\n",
    "let result = point1 + point2 + point\n",
    "let results = [result, point1, point2]\n",
    "var some = \"Some Text\"\n",
    "result.translate(dx: 1, dy: 100)\n",
    "\"\"\");"
   ]
  },
  {
   "cell_type": "code",
   "execution_count": 9,
   "id": "4e0fae9d289a052b",
   "metadata": {
    "ExecuteTime": {
     "end_time": "2024-09-29T14:02:37.182441Z",
     "start_time": "2024-09-29T14:02:37.105492Z"
    }
   },
   "outputs": [
    {
     "data": {
      "text/plain": [
       "[{'x': 11, 'y': 6}, {'x': 5, 'y': 2}, {'x': 5, 'y': 2}]"
      ]
     },
     "execution_count": 9,
     "metadata": {},
     "output_type": "execute_result"
    }
   ],
   "source": [
    "repl.vars[\"results\"].get()"
   ]
  },
  {
   "cell_type": "code",
   "execution_count": 10,
   "id": "1b64d4f7e8b93e18",
   "metadata": {
    "ExecuteTime": {
     "end_time": "2024-09-29T14:02:45.467135Z",
     "start_time": "2024-09-29T14:02:45.392781Z"
    }
   },
   "outputs": [
    {
     "data": {
      "text/plain": [
       "('Point<Float>', {'x': 11, 'y': 6})"
      ]
     },
     "execution_count": 10,
     "metadata": {},
     "output_type": "execute_result"
    }
   ],
   "source": [
    "repl.vars[\"result\"].dtype, repl.vars[\"result\"].get()"
   ]
  },
  {
   "cell_type": "code",
   "execution_count": 11,
   "id": "6984211d",
   "metadata": {},
   "outputs": [],
   "source": [
    "repl.vars.set(\"y\", \"Array<Point<Float>>\", [{'x': -1.5, 'y': -1.2}]*10)"
   ]
  },
  {
   "cell_type": "code",
   "execution_count": 12,
   "id": "9848167fd9475b9b",
   "metadata": {
    "ExecuteTime": {
     "end_time": "2024-09-29T14:02:48.448294Z",
     "start_time": "2024-09-29T14:02:48.375909Z"
    }
   },
   "outputs": [
    {
     "name": "stdout",
     "output_type": "stream",
     "text": [
      "$R1: Point<Float> = {\n",
      "  x = 12\n",
      "  y = 106\n",
      "}\n",
      " 76>\n"
     ]
    }
   ],
   "source": [
    "repl.run(\"result.translate(dx: 1, dy: 100)\");"
   ]
  },
  {
   "cell_type": "code",
   "execution_count": 13,
   "id": "141407cc",
   "metadata": {},
   "outputs": [
    {
     "name": "stdout",
     "output_type": "stream",
     "text": [
      "$R2: [Point<Float>] = 10 values {\n",
      "  [0] = {\n",
      "    x = -1.5\n",
      "    y = -1.20000005\n",
      "  }\n",
      "  [1] = {\n",
      "    x = -1.5\n",
      "    y = -1.20000005\n",
      "  }\n",
      "  [2] = {\n",
      "    x = -1.5\n",
      "    y = -1.20000005\n",
      "  }\n",
      "  [3] = {\n",
      "    x = -1.5\n",
      "    y = -1.20000005\n",
      "  }\n",
      "  [4] = {\n",
      "    x = -1.5\n",
      "    y = -1.20000005\n",
      "  }\n",
      "  [5] = {\n",
      "    x = -1.5\n",
      "    y = -1.20000005\n",
      "  }\n",
      "  [6] = {\n",
      "    x = -1.5\n",
      "    y = -1.20000005\n",
      "  }\n",
      "  [7] = {\n",
      "    x = -1.5\n",
      "    y = -1.20000005\n",
      "  }\n",
      "  [8] = {\n",
      "    x = -1.5\n",
      "    y = -1.20000005\n",
      "  }\n",
      "  [9] = {\n",
      "    x = -1.5\n",
      "    y = -1.20000005\n",
      "  }\n",
      "}\n",
      " 78>\n"
     ]
    }
   ],
   "source": [
    "repl.run(\"\"\"//cpp\n",
    "y\n",
    "\"\"\");"
   ]
  },
  {
   "cell_type": "code",
   "execution_count": null,
   "id": "4113cbb7",
   "metadata": {},
   "outputs": [],
   "source": []
  }
 ],
 "metadata": {
  "kernelspec": {
   "display_name": "Python 3",
   "language": "python",
   "name": "python3"
  },
  "language_info": {
   "codemirror_mode": {
    "name": "ipython",
    "version": 3
   },
   "file_extension": ".py",
   "mimetype": "text/x-python",
   "name": "python",
   "nbconvert_exporter": "python",
   "pygments_lexer": "ipython3",
   "version": "3.11.4"
  }
 },
 "nbformat": 4,
 "nbformat_minor": 5
}
