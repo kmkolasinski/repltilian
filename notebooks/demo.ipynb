{
 "cells": [
  {
   "cell_type": "code",
   "execution_count": 1,
   "id": "da4af01579015d50",
   "metadata": {
    "ExecuteTime": {
     "end_time": "2024-09-29T13:56:47.164166Z",
     "start_time": "2024-09-29T13:56:47.159605Z"
    }
   },
   "outputs": [
    {
     "name": "stdout",
     "output_type": "stream",
     "text": [
      "The autoreload extension is already loaded. To reload it, use:\n",
      "  %reload_ext autoreload\n"
     ]
    }
   ],
   "source": [
    "%load_ext autoreload\n",
    "%autoreload 2"
   ]
  },
  {
   "cell_type": "code",
   "execution_count": 2,
   "id": "initial_id",
   "metadata": {
    "ExecuteTime": {
     "end_time": "2024-09-29T14:02:23.145951Z",
     "start_time": "2024-09-29T14:02:22.009282Z"
    },
    "collapsed": true
   },
   "outputs": [
    {
     "name": "stdout",
     "output_type": "stream",
     "text": [
      "REPL is running !\n",
      " 24>\n",
      "values: [Int] = 5 values {\n",
      "  [0] = 1\n",
      "  [1] = 2\n",
      "  [2] = 3\n",
      "  [3] = 4\n",
      "  [4] = 5\n",
      "}\n",
      " 26>\n",
      "offset: Int = -1\n",
      "newValues: [Int] = 10 values {\n",
      "  [0] = -1\n",
      "  [1] = 0\n",
      "  [2] = 3\n",
      "  [3] = 8\n",
      "  [4] = 15\n",
      "  [5] = 24\n",
      "  [6] = 35\n",
      "  [7] = 48\n",
      "  [8] = 63\n",
      "  [9] = 80\n",
      "}\n",
      " 33>\n"
     ]
    }
   ],
   "source": [
    "from repltilian import SwiftREPL\n",
    "# Create a new Swift REPL process\n",
    "repl = SwiftREPL()\n",
    "# Run some code in the Swift REPL\n",
    "repl.run(\"var values = [1, 2, 3, 4, 5]\")\n",
    "# Get the value of a variable from Swift to Python\n",
    "assert repl.vars[\"values\"].get() == [1, 2, 3, 4, 5]\n",
    "# Create or update variable\n",
    "repl.vars.set(\"values\", \"Array<Int>\", list(range(10)))\n",
    "# Run some more code again\n",
    "repl.run(\"\"\"\n",
    "let offset = -1\n",
    "let newValues = values.map { $0 * $0 + offset}\n",
    "\"\"\")\n",
    "assert repl.vars[\"newValues\"].get()[:5] == [-1, 0, 3, 8, 15]\n",
    "repl.close()"
   ]
  },
  {
   "cell_type": "code",
   "execution_count": 3,
   "id": "a4b0e528962fff8f",
   "metadata": {},
   "outputs": [
    {
     "name": "stdout",
     "output_type": "stream",
     "text": [
      "REPL is running !\n",
      " 24>\n",
      "p1: Point<Float> = {\n",
      "  x = 1\n",
      "  y = 2\n",
      "}\n",
      "p2: Point<Float> = {\n",
      "  x = 2\n",
      "  y = 1\n",
      "}\n",
      "p3: Point<Float> = {\n",
      "  x = 3\n",
      "  y = 3\n",
      "}\n",
      " 111>\n"
     ]
    }
   ],
   "source": [
    "repl = SwiftREPL()\n",
    "repl.add_reload_file(\"demo.swift\")\n",
    "repl.run(\"\"\"\n",
    "var p1 = Point<Float>(x: 1, y: 2)\n",
    "var p2 = Point<Float>(x: 2, y: 1)\n",
    "var p3 = p1 + p2\n",
    "\"\"\", autoreload=True)\n",
    "\n",
    "assert repl.vars[\"p3\"].get() == {'x': 3, 'y': 3}\n",
    "repl.close()"
   ]
  },
  {
   "cell_type": "code",
   "execution_count": 4,
   "id": "ddcb63652ee99f2d",
   "metadata": {},
   "outputs": [
    {
     "name": "stdout",
     "output_type": "stream",
     "text": [
      "REPL is running !\n",
      " 24>\n",
      "107>\n",
      "Timer unit: 1 ns\n",
      "Total time: 0.574 s\n",
      "Function: findKNearestNeighbors at line 38\n",
      "Line #      Hits         Time   Per Hit   % Time  Line Contents\n",
      "===============================================================\n",
      "     0          1     0.000001  0.000001      0.0%      var results: [SearchResult<T>] = []\n",
      "     1          1     0.574267  0.574267    100.0%      for queryPoint in query {\n",
      "     2        100     0.000006  0.000000      0.0%          var distances: [Neighbor<T>] = []\n",
      "     3        100     0.000002  0.000000      0.0%          // Calculate distances to all dataPoints {\n",
      "     4        100     0.529691  0.005297     92.2%          for dataPoint in dataset {\n",
      "     5     500000     0.013678  0.000000      2.4%              let dx = queryPoint.x - dataPoint.x\n",
      "     6     500000     0.010178  0.000000      1.8%              let dy = queryPoint.y - dataPoint.y\n",
      "     7     500000     0.012685  0.000000      2.2%              let distance = (dx * dx + dy * dy).squareRoot()\n",
      "     8     500000     0.043276  0.000000      7.5%              distances.append(Neighbor(point: dataPoint, distance: distance))\n",
      "     9          0     0.000000  0.000000      0.0%          }\n",
      "    10        100     0.000003  0.000000      0.0%          // Sort neighbors by distance\n",
      "    11        100     0.043946  0.000439      7.7%          distances.sort { $0.distance < $1.distance }\n",
      "    12        100     0.000002  0.000000      0.0%          // Select the first k neighbors\n",
      "    13        100     0.000221  0.000002      0.0%          let kNeighbors = Array(distances.prefix(k))\n",
      "    14        100     0.000002  0.000000      0.0%          // Add to results\n",
      "    15        100     0.000022  0.000000      0.0%          let searchResult = SearchResult(queryPoint: queryPoint, neighbors: kNeighbors)\n",
      "    16        100     0.000020  0.000000      0.0%          results.append(searchResult)\n",
      "    17          0     0.000000  0.000000      0.0%      }\n"
     ]
    }
   ],
   "source": [
    "from repltilian import SwiftREPL\n",
    "repl = SwiftREPL()\n",
    "repl.add_reload_file(\"demo.swift\")\n",
    "# Run any command to import demo.swift code\n",
    "repl.run(\"\", autoreload=True)\n",
    "repl.vars.set(\"query\", \"Array<Point<Float>>\", [{'x': -1.5, 'y': -1.2}]*100)\n",
    "repl.vars.set(\"dataset\", \"Array<Point<Float>>\", [{'x': -1.5, 'y': -1.2}]*5000)\n",
    "\n",
    "repl.options.output_hide_variables = True\n",
    "repl.run(\"\"\"\n",
    "let newResult = findKNearestNeighbors(query: query, dataset: dataset, k: 10)\n",
    "\"\"\")\n",
    "assert len(repl.vars[\"newResult\"].get()) == 100\n",
    "assert len(repl.vars[\"newResult\"].get()[0][\"neighbors\"]) == 10\n",
    "\n",
    "# run line profiling on the function findKNearestNeighbors\n",
    "repl.options.output_hide_variables = True\n",
    "repl.line_profile(\n",
    "\"\"\"\n",
    "let newResult = findKNearestNeighbors(query: query, dataset: dataset, k: 10)\n",
    "\"\"\",\n",
    "function_name=\"findKNearestNeighbors\",\n",
    "source_path=\"demo.swift\"\n",
    ")\n",
    "repl.close()"
   ]
  }
 ],
 "metadata": {
  "kernelspec": {
   "display_name": "Python 3",
   "language": "python",
   "name": "python3"
  },
  "language_info": {
   "codemirror_mode": {
    "name": "ipython",
    "version": 3
   },
   "file_extension": ".py",
   "mimetype": "text/x-python",
   "name": "python",
   "nbconvert_exporter": "python",
   "pygments_lexer": "ipython3",
   "version": "3.11.4"
  }
 },
 "nbformat": 4,
 "nbformat_minor": 5
}
