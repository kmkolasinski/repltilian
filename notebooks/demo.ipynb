{
 "cells": [
  {
   "cell_type": "code",
   "execution_count": 1,
   "id": "da4af01579015d50",
   "metadata": {
    "ExecuteTime": {
     "end_time": "2024-09-29T13:56:47.164166Z",
     "start_time": "2024-09-29T13:56:47.159605Z"
    }
   },
   "outputs": [
    {
     "name": "stdout",
     "output_type": "stream",
     "text": [
      "The autoreload extension is already loaded. To reload it, use:\n",
      "  %reload_ext autoreload\n"
     ]
    }
   ],
   "source": [
    "%load_ext autoreload\n",
    "%autoreload 2"
   ]
  },
  {
   "cell_type": "code",
   "execution_count": 2,
   "id": "initial_id",
   "metadata": {
    "ExecuteTime": {
     "end_time": "2024-09-29T14:02:23.145951Z",
     "start_time": "2024-09-29T14:02:22.009282Z"
    },
    "collapsed": true
   },
   "outputs": [
    {
     "name": "stdout",
     "output_type": "stream",
     "text": [
      " 23>\n"
     ]
    }
   ],
   "source": [
    "from repltilian import SwiftREPL\n",
    "repl = SwiftREPL()"
   ]
  },
  {
   "cell_type": "code",
   "execution_count": 3,
   "id": "65815d9d016d8832",
   "metadata": {
    "ExecuteTime": {
     "end_time": "2024-09-29T14:02:24.077913Z",
     "start_time": "2024-09-29T14:02:24.075524Z"
    }
   },
   "outputs": [],
   "source": [
    "repl.add_reload_file(\"demo.swift\")"
   ]
  },
  {
   "cell_type": "code",
   "execution_count": 4,
   "id": "a4b0e528962fff8f",
   "metadata": {},
   "outputs": [
    {
     "name": "stdout",
     "output_type": "stream",
     "text": [
      "point: Point<Float> = {\n",
      "  x = 1\n",
      "  y = 2\n",
      "}\n",
      " 106>\n"
     ]
    }
   ],
   "source": [
    "repl.run(\"\"\"\n",
    "var point = Point<Float>(x: 1, y: 2)\n",
    "\"\"\", autoreload=True);"
   ]
  },
  {
   "cell_type": "code",
   "execution_count": 5,
   "id": "ddcb63652ee99f2d",
   "metadata": {},
   "outputs": [
    {
     "name": "stdout",
     "output_type": "stream",
     "text": [
      " 107>\n"
     ]
    }
   ],
   "source": [
    "repl.run(\"\"\"var i = 1.0\"\"\", autoreload=False);"
   ]
  },
  {
   "cell_type": "code",
   "execution_count": 6,
   "id": "9a283b04",
   "metadata": {},
   "outputs": [
    {
     "data": {
      "text/plain": [
       "{'x': 1, 'y': 2}"
      ]
     },
     "execution_count": 6,
     "metadata": {},
     "output_type": "execute_result"
    }
   ],
   "source": [
    "repl.vars[\"point\"].get()"
   ]
  },
  {
   "cell_type": "code",
   "execution_count": 7,
   "id": "d5540b2eb64a7080",
   "metadata": {
    "ExecuteTime": {
     "end_time": "2024-09-29T14:02:34.706683Z",
     "start_time": "2024-09-29T14:02:34.629872Z"
    }
   },
   "outputs": [
    {
     "name": "stdout",
     "output_type": "stream",
     "text": [
      "$R0: Point<Float> = {\n",
      "  x = 12\n",
      "  y = 106\n",
      "}\n",
      "point1: Point<Float> = {\n",
      "  x = 5\n",
      "  y = 2\n",
      "}\n",
      "point2: Point<Float> = {\n",
      "  x = 5\n",
      "  y = 2\n",
      "}\n",
      "result: Point<Float> = {\n",
      "  x = 11\n",
      "  y = 6\n",
      "}\n",
      "results: [Point<Float>] = 3 values {\n",
      "  [0] = {\n",
      "    x = 11\n",
      "    y = 6\n",
      "  }\n",
      "  [1] = {\n",
      "    x = 5\n",
      "    y = 2\n",
      "  }\n",
      "  [2] = {\n",
      "    x = 5\n",
      "    y = 2\n",
      "  }\n",
      "}\n",
      "some: String = \"Some Text\"\n",
      " 115>\n"
     ]
    }
   ],
   "source": [
    "repl.run(\"\"\"//cpp\n",
    "var point1 = Point<Float>(x: 5, y: 2)\n",
    "var point2 = Point<Float>(x: 5, y: 2)\n",
    "let result = point1 + point2 + point\n",
    "let results = [result, point1, point2]\n",
    "var some = \"Some Text\"\n",
    "result.translate(dx: 1, dy: 100)\n",
    "\"\"\");"
   ]
  },
  {
   "cell_type": "code",
   "execution_count": 14,
   "id": "569f1056",
   "metadata": {},
   "outputs": [
    {
     "name": "stdout",
     "output_type": "stream",
     "text": [
      "\n"
     ]
    }
   ],
   "source": [
    "repl.options.output_hide_variables = True\n",
    "repl.run(\"\"\"//cpp\n",
    "var point1 = Point<Float>(x: 5, y: 2)\n",
    "var point2 = Point<Float>(x: 5, y: 2)\n",
    "let result = point1 + point2 + point\n",
    "let results = [result, point1, point2]\n",
    "var some = \"Some Text\"\n",
    "result.translate(dx: 1, dy: 100)\n",
    "\"\"\");"
   ]
  },
  {
   "cell_type": "code",
   "execution_count": 15,
   "id": "4e0fae9d289a052b",
   "metadata": {
    "ExecuteTime": {
     "end_time": "2024-09-29T14:02:37.182441Z",
     "start_time": "2024-09-29T14:02:37.105492Z"
    }
   },
   "outputs": [
    {
     "data": {
      "text/plain": [
       "[{'x': 11, 'y': 6}, {'x': 5, 'y': 2}, {'x': 5, 'y': 2}]"
      ]
     },
     "execution_count": 15,
     "metadata": {},
     "output_type": "execute_result"
    }
   ],
   "source": [
    "repl.vars[\"results\"].get()"
   ]
  },
  {
   "cell_type": "code",
   "execution_count": 16,
   "id": "1b64d4f7e8b93e18",
   "metadata": {
    "ExecuteTime": {
     "end_time": "2024-09-29T14:02:45.467135Z",
     "start_time": "2024-09-29T14:02:45.392781Z"
    }
   },
   "outputs": [
    {
     "data": {
      "text/plain": [
       "('Point<Float>', {'x': 11, 'y': 6})"
      ]
     },
     "execution_count": 16,
     "metadata": {},
     "output_type": "execute_result"
    }
   ],
   "source": [
    "repl.vars[\"result\"].dtype, repl.vars[\"result\"].get()"
   ]
  },
  {
   "cell_type": "code",
   "execution_count": 17,
   "id": "6984211d",
   "metadata": {},
   "outputs": [],
   "source": [
    "repl.vars.set(\"y\", \"Array<Point<Float>>\", [{'x': -1.5, 'y': -1.2}]*10)"
   ]
  },
  {
   "cell_type": "code",
   "execution_count": 20,
   "id": "9848167fd9475b9b",
   "metadata": {
    "ExecuteTime": {
     "end_time": "2024-09-29T14:02:48.448294Z",
     "start_time": "2024-09-29T14:02:48.375909Z"
    }
   },
   "outputs": [
    {
     "name": "stdout",
     "output_type": "stream",
     "text": [
      "$R9: Point<Float> = {\n",
      "  x = 12\n",
      "  y = 106\n",
      "}\n",
      " 166>\n"
     ]
    }
   ],
   "source": [
    "repl.options.output_hide_variables = False\n",
    "repl.run(\"result.translate(dx: 1, dy: 100)\");"
   ]
  },
  {
   "cell_type": "code",
   "execution_count": 21,
   "id": "141407cc",
   "metadata": {},
   "outputs": [
    {
     "name": "stdout",
     "output_type": "stream",
     "text": [
      "$R10: [Point<Float>] = 10 values {\n",
      "  [0] = {\n",
      "    x = -1.5\n",
      "    y = -1.20000005\n",
      "  }\n",
      "  [1] = {\n",
      "    x = -1.5\n",
      "    y = -1.20000005\n",
      "  }\n",
      "  [2] = {\n",
      "    x = -1.5\n",
      "    y = -1.20000005\n",
      "  }\n",
      "  [3] = {\n",
      "    x = -1.5\n",
      "    y = -1.20000005\n",
      "  }\n",
      "  [4] = {\n",
      "    x = -1.5\n",
      "    y = -1.20000005\n",
      "  }\n",
      "  [5] = {\n",
      "    x = -1.5\n",
      "    y = -1.20000005\n",
      "  }\n",
      "  [6] = {\n",
      "    x = -1.5\n",
      "    y = -1.20000005\n",
      "  }\n",
      "  [7] = {\n",
      "    x = -1.5\n",
      "    y = -1.20000005\n",
      "  }\n",
      "  [8] = {\n",
      "    x = -1.5\n",
      "    y = -1.20000005\n",
      "  }\n",
      "  [9] = {\n",
      "    x = -1.5\n",
      "    y = -1.20000005\n",
      "  }\n",
      "}\n",
      " 168>\n"
     ]
    }
   ],
   "source": [
    "repl.run(\"\"\"//cpp\n",
    "y\n",
    "\"\"\");"
   ]
  },
  {
   "cell_type": "code",
   "execution_count": 22,
   "id": "4113cbb7",
   "metadata": {},
   "outputs": [],
   "source": [
    "repl.vars.set(\"query\", \"Array<Point<Float>>\", [{'x': -1.5, 'y': -1.2}]*100)\n",
    "repl.vars.set(\"dataset\", \"Array<Point<Float>>\", [{'x': -1.5, 'y': -1.2}]*5000)"
   ]
  },
  {
   "cell_type": "code",
   "execution_count": 27,
   "id": "c1125259",
   "metadata": {},
   "outputs": [
    {
     "data": {
      "text/plain": [
       "100"
      ]
     },
     "execution_count": 27,
     "metadata": {},
     "output_type": "execute_result"
    }
   ],
   "source": [
    "repl.options.output_hide_variables = True\n",
    "repl.run(\"\"\"//cpp\n",
    "let newResult = findKNearestNeighbors(query: query, dataset: dataset, k: 10)\n",
    "\"\"\");\n",
    "len(repl.vars[\"newResult\"].get())"
   ]
  },
  {
   "cell_type": "code",
   "execution_count": 33,
   "id": "6de84115",
   "metadata": {},
   "outputs": [
    {
     "name": "stdout",
     "output_type": "stream",
     "text": [
      "Timer unit: 1 ns\n",
      "Total time: 0.551 s\n",
      "Function: findKNearestNeighbors at line 38\n",
      "Line #      Hits         Time   Per Hit   % Time  Line Contents\n",
      "===============================================================\n",
      "     0          1     0.000000  0.000000      0.0%      var results: [SearchResult<T>] = []\n",
      "     1          1     0.550775  0.550775    100.0%      for queryPoint in query {\n",
      "     2        100     0.000005  0.000000      0.0%          var distances: [Neighbor<T>] = []\n",
      "     3        100     0.000002  0.000000      0.0%          // Calculate distances to all dataPoints {\n",
      "     4        100     0.508475  0.005085     92.3%          for dataPoint in dataset {\n",
      "     5     500000     0.013025  0.000000      2.4%              let dx = queryPoint.x - dataPoint.x\n",
      "     6     500000     0.009857  0.000000      1.8%              let dy = queryPoint.y - dataPoint.y\n",
      "     7     500000     0.012090  0.000000      2.2%              let distance = (dx * dx + dy * dy).squareRoot()\n",
      "     8     500000     0.041155  0.000000      7.5%              distances.append(Neighbor(point: dataPoint, distance: distance))\n",
      "     9          0     0.000000  0.000000      0.0%          }\n",
      "    10        100     0.000002  0.000000      0.0%          // Sort neighbors by distance\n",
      "    11        100     0.041772  0.000418      7.6%          distances.sort { $0.distance < $1.distance }\n",
      "    12        100     0.000002  0.000000      0.0%          // Select the first k neighbors\n",
      "    13        100     0.000174  0.000002      0.0%          let kNeighbors = Array(distances.prefix(k))\n",
      "    14        100     0.000002  0.000000      0.0%          // Add to results\n",
      "    15        100     0.000015  0.000000      0.0%          let searchResult = SearchResult(queryPoint: queryPoint, neighbors: kNeighbors)\n",
      "    16        100     0.000018  0.000000      0.0%          results.append(searchResult)\n",
      "    17          0     0.000000  0.000000      0.0%      }\n"
     ]
    }
   ],
   "source": [
    "repl.options.output_hide_variables = True\n",
    "repl.line_profile(\"\"\"//cpp\n",
    "let newResult = findKNearestNeighbors(query: query, dataset: dataset, k: 10)\n",
    "\"\"\",\n",
    "function_name=\"findKNearestNeighbors\",\n",
    "source_path=\"demo.swift\");"
   ]
  }
 ],
 "metadata": {
  "kernelspec": {
   "display_name": "Python 3",
   "language": "python",
   "name": "python3"
  },
  "language_info": {
   "codemirror_mode": {
    "name": "ipython",
    "version": 3
   },
   "file_extension": ".py",
   "mimetype": "text/x-python",
   "name": "python",
   "nbconvert_exporter": "python",
   "pygments_lexer": "ipython3",
   "version": "3.11.4"
  }
 },
 "nbformat": 4,
 "nbformat_minor": 5
}
