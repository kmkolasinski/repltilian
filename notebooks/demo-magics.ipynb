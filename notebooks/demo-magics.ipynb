{
 "cells": [
  {
   "cell_type": "code",
   "execution_count": 1,
   "id": "da4af01579015d50",
   "metadata": {
    "ExecuteTime": {
     "end_time": "2024-09-29T13:56:47.164166Z",
     "start_time": "2024-09-29T13:56:47.159605Z"
    }
   },
   "outputs": [
    {
     "name": "stdout",
     "output_type": "stream",
     "text": [
      "The autoreload extension is already loaded. To reload it, use:\n",
      "  %reload_ext autoreload\n"
     ]
    }
   ],
   "source": [
    "%load_ext autoreload\n",
    "%autoreload 2"
   ]
  },
  {
   "cell_type": "code",
   "execution_count": 2,
   "id": "21f69bbc",
   "metadata": {},
   "outputs": [
    {
     "name": "stdout",
     "output_type": "stream",
     "text": [
      "Initializing REPL ...\n",
      "REPL is running !\n",
      " 24>\n"
     ]
    }
   ],
   "source": [
    "%load_ext repltilian\n",
    "%repl_init"
   ]
  },
  {
   "cell_type": "code",
   "execution_count": 3,
   "id": "146fa9d3",
   "metadata": {},
   "outputs": [],
   "source": [
    "%%repl\n",
    "\n",
    "var values = [1, 2, 3, 4, 5]"
   ]
  },
  {
   "cell_type": "code",
   "execution_count": 4,
   "id": "fccc0933",
   "metadata": {},
   "outputs": [],
   "source": [
    "import json\n",
    "\n",
    "values = %repl_get values\n",
    "assert values == [1, 2, 3, 4, 5]\n",
    "\n",
    "new_values = list(range(10))\n",
    "%repl_set values: Array<Int> = $new_values\n",
    "\n",
    "new_values = json.dumps(list(range(10)))\n",
    "%repl_set values: Array<Int> = $new_values"
   ]
  },
  {
   "cell_type": "code",
   "execution_count": 5,
   "id": "dc850c4f",
   "metadata": {},
   "outputs": [
    {
     "name": "stdout",
     "output_type": "stream",
     "text": [
      "offset: Int = -1\n",
      "newValues: [Int] = 10 values {\n",
      "  [0] = -1\n",
      "  [1] = 0\n",
      "  [2] = 3\n",
      "  [3] = 8\n",
      "  [4] = 15\n",
      "  [5] = 24\n",
      "  [6] = 35\n",
      "  [7] = 48\n",
      "  [8] = 63\n",
      "  [9] = 80\n",
      "}\n",
      " 35>\n"
     ]
    }
   ],
   "source": [
    "%%repl --verbose\n",
    "\n",
    "let offset = -1\n",
    "let newValues = values.map { $0 * $0 + offset}"
   ]
  },
  {
   "cell_type": "code",
   "execution_count": 6,
   "id": "375c2788",
   "metadata": {},
   "outputs": [
    {
     "data": {
      "text/plain": [
       "[-1, 0, 3, 8, 15, 24, 35, 48, 63, 80]"
      ]
     },
     "execution_count": 6,
     "metadata": {},
     "output_type": "execute_result"
    }
   ],
   "source": [
    "%repl_get newValues"
   ]
  },
  {
   "cell_type": "code",
   "execution_count": 7,
   "id": "c58e32d8",
   "metadata": {},
   "outputs": [],
   "source": [
    "%repl_add_file demo.swift"
   ]
  },
  {
   "cell_type": "code",
   "execution_count": 8,
   "id": "2960df4a",
   "metadata": {},
   "outputs": [
    {
     "name": "stdout",
     "output_type": "stream",
     "text": [
      "p1: Point<Float> = {\n",
      "  x = 1\n",
      "  y = 2\n",
      "}\n",
      "p2: Point<Float> = {\n",
      "  x = 2\n",
      "  y = 1\n",
      "}\n",
      "p3: Point<Float> = {\n",
      "  x = 3\n",
      "  y = 3\n",
      "}\n",
      " 124>\n"
     ]
    }
   ],
   "source": [
    "%%repl --autoreload --verbose\n",
    "\n",
    "var p1 = Point<Float>(x: 1, y: 2)\n",
    "var p2 = Point<Float>(x: 2, y: 1)\n",
    "var p3 = p1 + p2"
   ]
  },
  {
   "cell_type": "code",
   "execution_count": 9,
   "id": "a2b2410d",
   "metadata": {},
   "outputs": [
    {
     "data": {
      "text/plain": [
       "{'x': 3, 'y': 3}"
      ]
     },
     "execution_count": 9,
     "metadata": {},
     "output_type": "execute_result"
    }
   ],
   "source": [
    "%repl_get p3"
   ]
  },
  {
   "cell_type": "code",
   "execution_count": 10,
   "id": "48351fba",
   "metadata": {},
   "outputs": [
    {
     "data": {
      "text/plain": [
       "{'values': values[Array<Int>] at 133179863362640,\n",
       " 'offset': offset[Int] at 133179863364560,\n",
       " 'newValues': newValues[[Int]] at 133179863364752,\n",
       " 'p1': p1[Point<Float>] at 133179874625232,\n",
       " 'p2': p2[Point<Float>] at 133179863414224,\n",
       " 'p3': p3[Point<Float>] at 133179863413648}"
      ]
     },
     "execution_count": 10,
     "metadata": {},
     "output_type": "execute_result"
    }
   ],
   "source": [
    "repl = %repl_instance\n",
    "repl.vars"
   ]
  },
  {
   "cell_type": "code",
   "execution_count": null,
   "id": "d63111af",
   "metadata": {},
   "outputs": [],
   "source": []
  }
 ],
 "metadata": {
  "kernelspec": {
   "display_name": "Python 3",
   "language": "python",
   "name": "python3"
  },
  "language_info": {
   "codemirror_mode": {
    "name": "ipython",
    "version": 3
   },
   "file_extension": ".py",
   "mimetype": "text/x-python",
   "name": "python",
   "nbconvert_exporter": "python",
   "pygments_lexer": "ipython3",
   "version": "3.11.4"
  }
 },
 "nbformat": 4,
 "nbformat_minor": 5
}
